{
 "cells": [
  {
   "cell_type": "markdown",
   "metadata": {},
   "source": [
    "# Discrimination by Regression"
   ]
  },
  {
   "cell_type": "code",
   "execution_count": 1,
   "metadata": {},
   "outputs": [],
   "source": [
    "import numpy as np\n",
    "import pandas as pd\n",
    "import matplotlib.pyplot as plt\n",
    "\n",
    "def safelog(x):\n",
    "    return(np.log(x + 1e-100))"
   ]
  },
  {
   "cell_type": "markdown",
   "metadata": {},
   "source": [
    "## Read Data"
   ]
  },
  {
   "cell_type": "code",
   "execution_count": 2,
   "metadata": {},
   "outputs": [],
   "source": [
    "images = np.genfromtxt('hw02_data_set_images.csv',delimiter=',').reshape(5, 39, 320)\n",
    "labels = np.char.strip(np.genfromtxt('hw02_data_set_labels.csv',delimiter=',',dtype=str),'\"').reshape(5,39)\n",
    "\n",
    "for index, key in enumerate(['A', 'B', 'C', 'D', 'E']):\n",
    "    labels[labels == key] = index + 1\n",
    "labels = labels.astype(int)"
   ]
  },
  {
   "cell_type": "code",
   "execution_count": 3,
   "metadata": {},
   "outputs": [
    {
     "data": {
      "image/png": "[encoded data removed]",
      "text/plain": [
       "<Figure size 432x288 with 1 Axes>"
      ]
     },
     "metadata": {
      "needs_background": "light"
     },
     "output_type": "display_data"
    }
   ],
   "source": [
    "training_images = images[:,:25,:].reshape(125, 320)\n",
    "training_l      = labels[:,:25].reshape(125,)\n",
    "test_images     = images[:,25:,:].reshape(70, 320)\n",
    "test_l          = labels[:,25:].reshape(70,)\n",
    "\n",
    "plt.imshow(training_images[100,:].reshape(16,20).T)\n",
    "plt.show()\n",
    "\n",
    "K = np.max(training_l)\n",
    "N_train = training_l.shape[0]\n",
    "N_test = test_l.shape[0]\n",
    "\n",
    "\n",
    "training_labels = np.zeros((N_train, K)).astype(int)\n",
    "training_labels[range(N_train), training_l - 1] = 1\n",
    "\n",
    "test_labels = np.zeros((N_test, K)).astype(int)\n",
    "test_labels[range(N_test), test_l - 1] = 1"
   ]
  },
  {
   "cell_type": "code",
   "execution_count": 4,
   "metadata": {},
   "outputs": [],
   "source": [
    "def sigmoid(X, w, w0):\n",
    "    return(1 / (1 + np.exp(-(np.matmul(X, w) + w0))))"
   ]
  },
  {
   "cell_type": "code",
   "execution_count": 5,
   "metadata": {},
   "outputs": [],
   "source": [
    "def gradient_W(X, y_truth, y_predicted):\n",
    "    return(np.asarray([-np.sum(np.repeat((y_truth[:,c] - y_predicted[:,c])[:, None], X.shape[1], axis = 1) * X, axis = 0) for c in range(K)]).transpose())/3\n",
    "\n",
    "def gradient_w0(Y_truth, Y_predicted):\n",
    "    return(-np.sum(Y_truth - Y_predicted, axis = 0))"
   ]
  },
  {
   "cell_type": "code",
   "execution_count": 6,
   "metadata": {},
   "outputs": [],
   "source": [
    "# set learning parameters\n",
    "eta = 0.01\n",
    "epsilon = 1e-3"
   ]
  },
  {
   "cell_type": "code",
   "execution_count": 7,
   "metadata": {},
   "outputs": [],
   "source": [
    "W = np.random.uniform(low = -0.01, high = 0.01, size = (training_images.shape[-1], K))\n",
    "w0 = np.random.uniform(low = -0.01, high = 0.01, size = (1, K))"
   ]
  },
  {
   "cell_type": "markdown",
   "metadata": {},
   "source": [
    "$\\textrm{Error} = -\\sum\\limits_{i = 1}^{N} \\sum\\limits_{c = 1}^{K} \\left[ y_{ic}\\log(\\widehat{y}_{ic}) \\right]$"
   ]
  },
  {
   "cell_type": "code",
   "execution_count": 9,
   "metadata": {},
   "outputs": [
    {
     "name": "stdout",
     "output_type": "stream",
     "text": [
      "(125, 320)\n"
     ]
    }
   ],
   "source": [
    "iteration = 1\n",
    "objective_values = []\n",
    "while 1:\n",
    "    Y_predicted = sigmoid(training_images, W, w0)\n",
    "    print(training_images.shape)\n",
    "    objective_values = np.append(objective_values, np.sum(0.5*((training_labels - Y_predicted)**2)))\n",
    "    \n",
    "    W_old = W\n",
    "    w0_old = w0\n",
    "\n",
    "    W = W - eta * gradient_W(training_images, training_labels, Y_predicted)\n",
    "    w0 = w0 - eta * gradient_w0(training_labels, Y_predicted)\n",
    "    \n",
    "    if np.sqrt(np.sum((w0 - w0_old))**2 + np.sum((W - W_old)**2)) < epsilon:\n",
    "        break\n",
    "    iteration = iteration + 1"
   ]
  },
  {
   "cell_type": "code",
   "execution_count": 84,
   "metadata": {},
   "outputs": [
    {
     "data": {
      "image/png": "[encoded data removed]",
      "text/plain": [
       "<Figure size 720x432 with 1 Axes>"
      ]
     },
     "metadata": {
      "needs_background": "light"
     },
     "output_type": "display_data"
    }
   ],
   "source": [
    "plt.figure(figsize = (10, 6))\n",
    "plt.plot(range(1, iteration + 1), objective_values, \"k-\")\n",
    "plt.xlabel(\"Iteration\")\n",
    "plt.ylabel(\"Error\")\n",
    "plt.show()"
   ]
  },
  {
   "cell_type": "code",
   "execution_count": 85,
   "metadata": {},
   "outputs": [
    {
     "name": "stdout",
     "output_type": "stream",
     "text": [
      "y_train       1   2   3   4   5\n",
      "y_predicted                    \n",
      "1            25   0   0   0   0\n",
      "2             0  25   0   0   0\n",
      "3             0   0  25   0   0\n",
      "4             0   0   0  25   0\n",
      "5             0   0   0   0  25\n",
      "\n",
      "====================\n",
      "\n",
      "====================\n"
     ]
    }
   ],
   "source": [
    "y_predicted = np.argmax(Y_predicted, axis = 1) + 1\n",
    "\n",
    "confusion_matrix = pd.crosstab(y_predicted, np.sum(training_labels * np.array([1,2,3,4,5]), axis=1), rownames = ['y_predicted'], colnames = ['y_train'])\n",
    "print(confusion_matrix)\n",
    "print(\"\\n====================\")\n",
    "print(\"\\n====================\")"
   ]
  },
  {
   "cell_type": "code",
   "execution_count": 86,
   "metadata": {},
   "outputs": [],
   "source": [
    "Y_predicted_test = sigmoid(test_images, W, w0)"
   ]
  },
  {
   "cell_type": "code",
   "execution_count": 87,
   "metadata": {},
   "outputs": [
    {
     "name": "stdout",
     "output_type": "stream",
     "text": [
      "y_test        1   2   3   4   5\n",
      "y_predicted                    \n",
      "1            13   1   0   0   0\n",
      "2             1  11   0   0   2\n",
      "3             0   0  14   0   0\n",
      "4             0   0   0  14   0\n",
      "5             0   2   0   0  12\n"
     ]
    }
   ],
   "source": [
    "y_predicted_test = np.argmax(Y_predicted_test, axis = 1) + 1\n",
    "\n",
    "confusion_matrix = pd.crosstab(y_predicted_test, np.sum(test_labels * np.array([1,2,3,4,5]), axis=1), rownames = ['y_predicted'], colnames = ['y_test'])\n",
    "print(confusion_matrix)"
   ]
  },
  {
   "cell_type": "code",
   "execution_count": null,
   "metadata": {},
   "outputs": [],
   "source": []
  }
 ],
 "metadata": {
  "kernelspec": {
   "display_name": "Python 3",
   "language": "python",
   "name": "python3"
  },
  "language_info": {
   "codemirror_mode": {
    "name": "ipython",
    "version": 3
   },
   "file_extension": ".py",
   "mimetype": "text/x-python",
   "name": "python",
   "nbconvert_exporter": "python",
   "pygments_lexer": "ipython3",
   "version": "3.8.5"
  }
 },
 "nbformat": 4,
 "nbformat_minor": 4
}
