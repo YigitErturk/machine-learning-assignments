{
 "cells": [
  {
   "cell_type": "markdown",
   "metadata": {},
   "source": [
    "# ENGR 421 - Homework 1"
   ]
  },
  {
   "cell_type": "code",
   "execution_count": 1,
   "metadata": {},
   "outputs": [],
   "source": [
    "import numpy as np\n",
    "import matplotlib.pyplot as plt\n",
    "import pandas as pd\n",
    "\n",
    "%matplotlib inline"
   ]
  },
  {
   "cell_type": "markdown",
   "metadata": {},
   "source": [
    "## Data Generation"
   ]
  },
  {
   "cell_type": "code",
   "execution_count": 2,
   "metadata": {},
   "outputs": [],
   "source": [
    "class_means = np.array([[+0.0, +2.5], \n",
    "                        [-2.5, -2.0], \n",
    "                        [+2.5, -2.0]])\n",
    "\n",
    "class_covariances = np.array([[[+3.2, +0.0], \n",
    "                               [+0.0, +1.2]],\n",
    "                              [[+1.2, -0.8], \n",
    "                               [-0.8, +1.2]],\n",
    "                              [[+1.2, +0.8], \n",
    "                               [+0.8, +1.2]]])\n",
    "\n",
    "class_sizes = np.array([120, 90, 90])"
   ]
  },
  {
   "cell_type": "code",
   "execution_count": 3,
   "metadata": {},
   "outputs": [],
   "source": [
    "np.random.seed(1)\n",
    "points1 = np.random.multivariate_normal(class_means[0,:], class_covariances[0,:,:], class_sizes[0])\n",
    "points2 = np.random.multivariate_normal(class_means[1,:], class_covariances[1,:,:], class_sizes[1])\n",
    "points3 = np.random.multivariate_normal(class_means[2,:], class_covariances[2,:,:], class_sizes[2])\n",
    "X = np.vstack((points1, points2, points3))\n",
    "\n",
    "y = np.concatenate((np.repeat(1, class_sizes[0]), np.repeat(2, class_sizes[1]), np.repeat(3, class_sizes[2])))"
   ]
  },
  {
   "cell_type": "markdown",
   "metadata": {},
   "source": [
    "## Plotting Data"
   ]
  },
  {
   "cell_type": "code",
   "execution_count": 4,
   "metadata": {},
   "outputs": [
    {
     "data": {
      "image/png": "[encoded data removed]",
      "text/plain": [
       "<Figure size 504x504 with 1 Axes>"
      ]
     },
     "metadata": {
      "needs_background": "light"
     },
     "output_type": "display_data"
    }
   ],
   "source": [
    "plt.figure(figsize = (7, 7))\n",
    "plt.plot(points1[:,0], points1[:,1], \"r.\", markersize = 10)\n",
    "plt.plot(points2[:,0], points2[:,1], \"g.\", markersize = 10)\n",
    "plt.plot(points3[:,0], points3[:,1], \"b.\", markersize = 10)\n",
    "plt.xlabel(\"x1\")\n",
    "plt.ylabel(\"x2\")\n",
    "plt.show()"
   ]
  },
  {
   "cell_type": "markdown",
   "metadata": {},
   "source": [
    "## Parameter Estimation"
   ]
  },
  {
   "cell_type": "markdown",
   "metadata": {},
   "source": [
    "### Sample Means"
   ]
  },
  {
   "cell_type": "code",
   "execution_count": 5,
   "metadata": {},
   "outputs": [
    {
     "name": "stdout",
     "output_type": "stream",
     "text": [
      "Sample Means:\n",
      "\n",
      "Class 1:\n",
      "[0.26563078 2.52716835]\n",
      "\n",
      "Class 2:\n",
      "[-2.40419817 -2.06445676]\n",
      "\n",
      "Class 3:\n",
      "[ 2.35008736 -1.98725172]\n"
     ]
    }
   ],
   "source": [
    "K = np.max(y)\n",
    "sample_means = [np.mean(X[y == (c + 1)], axis=0) for c in range(K)]\n",
    "\n",
    "print(\"Sample Means:\\n\")\n",
    "print(f\"Class 1:\\n{sample_means[0]}\\n\")\n",
    "print(f\"Class 2:\\n{sample_means[1]}\\n\")\n",
    "print(f\"Class 3:\\n{sample_means[2]}\")"
   ]
  },
  {
   "cell_type": "markdown",
   "metadata": {},
   "source": [
    "### Sample Covariances"
   ]
  },
  {
   "cell_type": "code",
   "execution_count": 6,
   "metadata": {},
   "outputs": [
    {
     "name": "stdout",
     "output_type": "stream",
     "text": [
      "Sample Covariances:\n",
      "\n",
      "Class 1:\n",
      "[[ 2.66148669 -0.23424653]\n",
      " [-0.23424653  1.16477455]]\n",
      "\n",
      "Class 2:\n",
      "[[ 1.40761298 -0.96375575]\n",
      " [-0.96375575  1.3258655 ]]\n",
      "\n",
      "Class 3:\n",
      "[[0.98615056 0.63474997]\n",
      " [0.63474997 1.20502163]]\n"
     ]
    }
   ],
   "source": [
    "a = X[y == 1] - sample_means[0]\n",
    "\n",
    "sample_cov_mat = [np.dot((X[y == (c+1)] - sample_means[c]).T,X[y == (c+1)] - \n",
    "                         sample_means[c])/class_sizes[c] for c in range(K)]\n",
    "\n",
    "print(\"Sample Covariances:\\n\")\n",
    "print(f\"Class 1:\\n{sample_cov_mat[0]}\\n\")\n",
    "print(f\"Class 2:\\n{sample_cov_mat[1]}\\n\")\n",
    "print(f\"Class 3:\\n{sample_cov_mat[2]}\")"
   ]
  },
  {
   "cell_type": "markdown",
   "metadata": {},
   "source": [
    "### Class Priors"
   ]
  },
  {
   "cell_type": "code",
   "execution_count": 7,
   "metadata": {},
   "outputs": [
    {
     "data": {
      "text/plain": [
       "[0.4, 0.3, 0.3]"
      ]
     },
     "execution_count": 7,
     "metadata": {},
     "output_type": "execute_result"
    }
   ],
   "source": [
    "class_priors = [np.mean(y == (c + 1)) for c in range(K)]\n",
    "class_priors"
   ]
  },
  {
   "cell_type": "markdown",
   "metadata": {},
   "source": [
    "## Calculating Score Functions"
   ]
  },
  {
   "cell_type": "code",
   "execution_count": 8,
   "metadata": {},
   "outputs": [
    {
     "name": "stdout",
     "output_type": "stream",
     "text": [
      "(300,)\n",
      "(300,)\n"
     ]
    }
   ],
   "source": [
    "D = 3\n",
    "y_predicted = []\n",
    "for i in range(X.shape[0]):\n",
    "    scores = [-D/2*np.log(2*np.pi) -1/2*np.log(np.linalg.det(sample_cov_mat[c])) -1/2 * np.dot(np.dot(X[i] \n",
    "            - sample_means[c], np.linalg.inv(sample_cov_mat[c])), X[i] - sample_means[c].T) + np.log(class_priors[c]) for c in range(K)]\n",
    "    y_predicted.append(np.argmax(scores)+1)\n",
    "y_predicted = np.array(y_predicted)\n",
    "\n",
    "print(y.shape)\n",
    "print(y_predicted.shape)"
   ]
  },
  {
   "cell_type": "markdown",
   "metadata": {},
   "source": [
    "## Confusion Matrix"
   ]
  },
  {
   "cell_type": "code",
   "execution_count": 9,
   "metadata": {},
   "outputs": [
    {
     "name": "stdout",
     "output_type": "stream",
     "text": [
      "y_truth    1   2   3\n",
      "y_pred              \n",
      "1        118   0   1\n",
      "2          0  89   0\n",
      "3          2   1  89\n"
     ]
    }
   ],
   "source": [
    "confusion_matrix = pd.crosstab(y_predicted, y, rownames = ['y_pred'], colnames = ['y_truth'])\n",
    "print(confusion_matrix)"
   ]
  },
  {
   "cell_type": "code",
   "execution_count": 10,
   "metadata": {},
   "outputs": [],
   "source": [
    "x1_interval = np.linspace(-6, +6, 1201)\n",
    "x2_interval = np.linspace(-6, +6, 1201)\n",
    "x1_grid, x2_grid = np.meshgrid(x1_interval, x2_interval)\n",
    "\n",
    "discriminant_values = np.zeros((1201,1201, 3))\n",
    "for i in range(1201):\n",
    "    for j in range(1201):\n",
    "        discriminant_values[i][j][:] = [-D/2*np.log(2*np.pi) -1/2*np.log(np.linalg.det(sample_cov_mat[c])) -1/2 * np.dot(np.dot(np.array([x1_interval[i], x2_interval[j]]).reshape(1,2) \n",
    "            - sample_means[c], np.linalg.inv(sample_cov_mat[c])), (np.array([x1_interval[i], x2_interval[j]]).reshape(1,2) \n",
    "            - sample_means[c]).T) + np.log(class_priors[c]) for c in range(K)]\n",
    "\n",
    "A = discriminant_values[:,:,0]\n",
    "B = discriminant_values[:,:,1]\n",
    "C = discriminant_values[:,:,2]"
   ]
  },
  {
   "cell_type": "code",
   "execution_count": 11,
   "metadata": {},
   "outputs": [],
   "source": [
    "A[(A < B) & (A < C)] = np.nan\n",
    "B[(B < A) & (B < C)] = np.nan\n",
    "C[(C < A) & (C < B)] = np.nan"
   ]
  },
  {
   "cell_type": "markdown",
   "metadata": {},
   "source": [
    "## Plotting Boundries"
   ]
  },
  {
   "cell_type": "code",
   "execution_count": 12,
   "metadata": {},
   "outputs": [
    {
     "data": {
      "image/png": "[encoded data removed]",
      "text/plain": [
       "<Figure size 504x504 with 1 Axes>"
      ]
     },
     "metadata": {
      "needs_background": "light"
     },
     "output_type": "display_data"
    }
   ],
   "source": [
    "plt.figure(figsize = (7, 7))\n",
    "plt.plot(X[y == 1, 0], X[y == 1, 1], \"r.\", markersize = 10)\n",
    "plt.plot(X[y == 2, 0], X[y == 2, 1], \"g.\", markersize = 10)\n",
    "plt.plot(X[y == 3, 0], X[y == 3, 1], \"b.\", markersize = 10)\n",
    "plt.plot(X[y_predicted != y, 0], X[y_predicted != y, 1], \"ko\", markersize = 12, fillstyle = \"none\")\n",
    "\n",
    "res = A + B + C\n",
    "plt.contour(x1_grid, x2_grid, (A - B).T, levels = 0, colors = \"k\")\n",
    "plt.contour(x1_grid, x2_grid, (A - C).T, levels = 0, colors = \"k\")\n",
    "plt.contour(x1_grid, x2_grid, (B - C).T, levels = 0, colors = \"k\")\n",
    "\n",
    "#plt.contourf(x1_grid, x2_grid, (A - B).T,levels = 0, colors=\"#ff000050\")\n",
    "#plt.contourf(x1_grid, x2_grid, C.T, colors=\"#0000ff50\")\n",
    "#plt.contourf(x1_grid, x2_grid, B.T, colors=\"#00ff0050\")\n",
    "\n",
    "#plt.contour(x1_grid, x2_grid, discriminant_values, levels = 0, colors = \"k\")\n",
    "plt.xlabel(\"x1\")\n",
    "plt.ylabel(\"x2\")\n",
    "plt.show()"
   ]
  },
  {
   "cell_type": "code",
   "execution_count": null,
   "metadata": {},
   "outputs": [],
   "source": []
  }
 ],
 "metadata": {
  "kernelspec": {
   "display_name": "Python 3",
   "language": "python",
   "name": "python3"
  },
  "language_info": {
   "codemirror_mode": {
    "name": "ipython",
    "version": 3
   },
   "file_extension": ".py",
   "mimetype": "text/x-python",
   "name": "python",
   "nbconvert_exporter": "python",
   "pygments_lexer": "ipython3",
   "version": "3.8.3"
  }
 },
 "nbformat": 4,
 "nbformat_minor": 4
}
