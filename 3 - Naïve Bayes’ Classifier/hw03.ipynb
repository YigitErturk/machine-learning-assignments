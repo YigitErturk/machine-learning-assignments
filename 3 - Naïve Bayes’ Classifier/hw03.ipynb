{
 "cells": [
  {
   "cell_type": "code",
   "execution_count": 1,
   "metadata": {},
   "outputs": [],
   "source": [
    "import numpy as np\n",
    "import matplotlib.pyplot as plt\n",
    "import pandas as pd"
   ]
  },
  {
   "cell_type": "code",
   "execution_count": 2,
   "metadata": {},
   "outputs": [],
   "source": [
    "def safelog(x):\n",
    "    return np.log(x + 1e-100)"
   ]
  },
  {
   "cell_type": "markdown",
   "metadata": {},
   "source": [
    "## Read Data"
   ]
  },
  {
   "cell_type": "code",
   "execution_count": 3,
   "metadata": {},
   "outputs": [],
   "source": [
    "images = np.genfromtxt('hw03_data_set_images.csv',delimiter=',').reshape(5, 39, 320)\n",
    "labels = np.char.strip(np.genfromtxt('hw03_data_set_labels.csv',delimiter=',',dtype=str),'\"').reshape(5,39)\n",
    "\n",
    "for index, key in enumerate(['A', 'B', 'C', 'D', 'E']):\n",
    "    labels[labels == key] = index + 1\n",
    "labels = labels.astype(int)"
   ]
  },
  {
   "cell_type": "code",
   "execution_count": 4,
   "metadata": {},
   "outputs": [],
   "source": [
    "training_images = images[:,:25,:].reshape(125, 320)\n",
    "training_l      = labels[:,:25].reshape(125,)\n",
    "test_images     = images[:,25:,:].reshape(70, 320)\n",
    "test_l          = labels[:,25:].reshape(70,)\n",
    "\n",
    "K = np.max(training_l)\n",
    "N_train = training_l.shape[0]\n",
    "N_test = test_l.shape[0]\n",
    "\n",
    "\n",
    "training_labels = np.zeros((N_train, K)).astype(int)\n",
    "training_labels[range(N_train), training_l - 1] = 1\n",
    "\n",
    "test_labels = np.zeros((N_test, K)).astype(int)\n",
    "test_labels[range(N_test), test_l - 1] = 1"
   ]
  },
  {
   "cell_type": "code",
   "execution_count": 5,
   "metadata": {},
   "outputs": [],
   "source": [
    "pcd = []\n",
    "for i in range(5):\n",
    "    pcd.append(np.sum(training_images[i*25:(i+1)*25], axis=0).flatten()/(training_images.shape[0]/K))"
   ]
  },
  {
   "cell_type": "code",
   "execution_count": 15,
   "metadata": {},
   "outputs": [
    {
     "name": "stdout",
     "output_type": "stream",
     "text": [
      "pcd[0] =>  [0.   0.   0.   0.04 0.04 0.04 0.16 0.2  0.16 0.12] ...\n",
      "pcd[1] =>  [0.04 0.24 0.24 0.2  0.12 0.08 0.12 0.16 0.24 0.32] ...\n",
      "pcd[2] =>  [0.   0.   0.   0.   0.   0.12 0.2  0.24 0.4  0.56] ...\n",
      "pcd[3] =>  [0.12 0.44 0.4  0.16 0.12 0.08 0.08 0.08 0.12 0.08] ...\n",
      "pcd[4] =>  [0.   0.12 0.12 0.08 0.12 0.16 0.12 0.04 0.12 0.12] ...\n"
     ]
    }
   ],
   "source": [
    "print(\"pcd[0] => \", pcd[0][:10], \"...\")\n",
    "print(\"pcd[1] => \", pcd[1][:10], \"...\")\n",
    "print(\"pcd[2] => \", pcd[2][:10], \"...\")\n",
    "print(\"pcd[3] => \", pcd[3][:10], \"...\")\n",
    "print(\"pcd[4] => \", pcd[4][:10], \"...\")"
   ]
  },
  {
   "cell_type": "code",
   "execution_count": 17,
   "metadata": {},
   "outputs": [
    {
     "data": {
      "image/png": "[encoded data removed]",
      "text/plain": [
       "<Figure size 1080x1080 with 5 Axes>"
      ]
     },
     "metadata": {
      "needs_background": "light"
     },
     "output_type": "display_data"
    }
   ],
   "source": [
    "fig, axs = plt.subplots(1,5,figsize=(15,15), sharey=True)\n",
    "for i in range(5):\n",
    "    axs[i].imshow(pcd[i].reshape(16,20).T, cmap=\"Greys\",interpolation='none')\n",
    "plt.show()"
   ]
  },
  {
   "cell_type": "code",
   "execution_count": 8,
   "metadata": {},
   "outputs": [],
   "source": [
    "def score_func(x, pcd):\n",
    "    return [np.dot(x[i].T, safelog(pcd[c])) + np.dot((1-x[i].T), safelog(1 - pcd[c])) + safelog(0.2) for c in range(5)]\n",
    "\n",
    "\n",
    "training_scores = np.zeros((125,5))\n",
    "for i in range(125):\n",
    "    training_scores[i] = score_func(training_images, pcd)"
   ]
  },
  {
   "cell_type": "code",
   "execution_count": 16,
   "metadata": {},
   "outputs": [
    {
     "name": "stdout",
     "output_type": "stream",
     "text": [
      "\n",
      " y_train       1   2   3   4   5\n",
      "y_predicted                    \n",
      "1            25   0   0   0   0\n",
      "2             0  24   1   0   1\n",
      "3             0   0  24   0   0\n",
      "4             0   1   0  25   0\n",
      "5             0   0   0   0  24\n",
      "\n",
      "====================\n",
      "\n",
      "====================\n"
     ]
    }
   ],
   "source": [
    "y_predicted = np.argmax(training_scores, axis = 1) + 1\n",
    "\n",
    "confusion_matrix = pd.crosstab(y_predicted, np.sum(training_labels * np.array([1,2,3,4,5]), axis=1), rownames = ['y_predicted'], colnames = ['y_train'])\n",
    "print(\"\\n\",confusion_matrix)\n",
    "print(\"\\n====================\")\n",
    "print(\"\\n====================\")"
   ]
  },
  {
   "cell_type": "code",
   "execution_count": 10,
   "metadata": {},
   "outputs": [
    {
     "name": "stdout",
     "output_type": "stream",
     "text": [
      "y_test       1   2  3   4   5\n",
      "y_predicted                  \n",
      "1            7   0  0   0   0\n",
      "2            0  11  3   2   4\n",
      "3            0   0  7   0   0\n",
      "4            7   3  3  12   0\n",
      "5            0   0  1   0  10\n"
     ]
    }
   ],
   "source": [
    "test_scores = np.zeros((70,5))\n",
    "for i in range(70):\n",
    "    test_scores[i] = score_func(test_images, pcd)\n",
    "\n",
    "y_predicted_test = np.argmax(test_scores, axis = 1) + 1\n",
    "\n",
    "confusion_matrix = pd.crosstab(y_predicted_test, np.sum(test_labels * np.array([1,2,3,4,5]), axis=1), rownames = ['y_predicted'], colnames = ['y_test'])\n",
    "print(confusion_matrix)"
   ]
  },
  {
   "cell_type": "code",
   "execution_count": null,
   "metadata": {},
   "outputs": [],
   "source": []
  }
 ],
 "metadata": {
  "kernelspec": {
   "display_name": "Python 3",
   "language": "python",
   "name": "python3"
  },
  "language_info": {
   "codemirror_mode": {
    "name": "ipython",
    "version": 3
   },
   "file_extension": ".py",
   "mimetype": "text/x-python",
   "name": "python",
   "nbconvert_exporter": "python",
   "pygments_lexer": "ipython3",
   "version": "3.8.5"
  }
 },
 "nbformat": 4,
 "nbformat_minor": 4
}
