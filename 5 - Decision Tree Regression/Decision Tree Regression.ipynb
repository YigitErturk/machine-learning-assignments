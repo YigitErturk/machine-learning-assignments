{
 "cells": [
  {
   "cell_type": "code",
   "execution_count": 1,
   "metadata": {},
   "outputs": [],
   "source": [
    "import numpy as np\n",
    "import matplotlib.pyplot as plt"
   ]
  },
  {
   "cell_type": "code",
   "execution_count": 2,
   "metadata": {},
   "outputs": [],
   "source": [
    "# read data into memory\n",
    "data_set = np.genfromtxt(\"hw04_data_set.csv\", skip_header=1, delimiter = \",\")\n",
    "\n",
    "# get X and y values\n",
    "X = data_set[:,0]\n",
    "y = data_set[:,-1].astype(int)\n",
    "\n",
    "X_train = X[:100]\n",
    "y_train = y[:100]\n",
    "X_test = X[100:]\n",
    "y_test = y[100:]\n",
    "\n",
    "# get numbers of train and test samples\n",
    "N_train = len(y_train)\n",
    "N_test = len(y_test)"
   ]
  },
  {
   "cell_type": "code",
   "execution_count": 3,
   "metadata": {},
   "outputs": [],
   "source": [
    "def learn_algo(P):\n",
    "        # create necessary data structures\n",
    "    node_indices = {}\n",
    "    is_terminal = {}\n",
    "    need_split = {}\n",
    "\n",
    "    node_splits = {}\n",
    "    node_means = {}\n",
    "\n",
    "    # put all training instances into the root node\n",
    "    node_indices[1] = np.array(range(N_train))\n",
    "    is_terminal[1] = False\n",
    "    need_split[1] = True\n",
    "    while True:\n",
    "        # find nodes that need splitting\n",
    "        split_nodes = [key for key, value in need_split.items() if value == True]\n",
    "        # check whether we reach all terminal nodes\n",
    "        if len(split_nodes) == 0:\n",
    "            break\n",
    "        # find best split positions for all nodes\n",
    "        for split_node in split_nodes:\n",
    "            data_indices = node_indices[split_node]\n",
    "            need_split[split_node] = False\n",
    "            node_mean = np.mean((y_train[data_indices]))\n",
    "            if len((X_train[data_indices])) <= P:\n",
    "                is_terminal[split_node] = True\n",
    "                node_means[split_node] = node_mean\n",
    "            else:\n",
    "                is_terminal[split_node] = False\n",
    "\n",
    "                unique_values = np.sort(np.unique(X_train[data_indices]))\n",
    "                l = len(unique_values)\n",
    "                split_positions = (unique_values[1:len(unique_values)] + unique_values[0:(len(unique_values) - 1)]) / 2\n",
    "                split_scores = np.repeat(0, len(split_positions))\n",
    "\n",
    "                for s in range(len(split_positions)):\n",
    "                    left_indices = data_indices[X_train[data_indices] <= split_positions[s]]\n",
    "                    right_indices = data_indices[X_train[data_indices] > split_positions[s]]\n",
    "                    total_err = 0\n",
    "                    e = 0\n",
    "                    if len(left_indices) > 0:\n",
    "                        total_err += np.sum((y_train[left_indices] - np.mean(y_train[left_indices]))**2)\n",
    "                    if len(right_indices) > 0:\n",
    "                        total_err += np.sum((y_train[right_indices] - np.mean(y_train[right_indices]))**2)\n",
    "                    split_scores[s] = total_err / (len(left_indices) + len(right_indices)+1)\n",
    "\n",
    "                if len(unique_values) == 1:\n",
    "                    is_terminal[split_node] = True\n",
    "                    node_means[split_node] = node_mean\n",
    "                    continue\n",
    "\n",
    "                best_split = split_positions[np.argmin(split_scores)]\n",
    "                node_splits[split_node] = best_split\n",
    "\n",
    "                # create left node using the selected split\n",
    "                left_indices = data_indices[X_train[data_indices] < best_split]\n",
    "                node_indices[2 * split_node] = left_indices\n",
    "                is_terminal[2 * split_node] = False\n",
    "                need_split[2 * split_node] = True\n",
    "\n",
    "                # create right node using the selected split\n",
    "                right_indices = data_indices[X_train[data_indices] >= best_split]\n",
    "                node_indices[2 * split_node + 1] = right_indices\n",
    "                is_terminal[2 * split_node + 1] = False\n",
    "                need_split[2 * split_node + 1] = True\n",
    "    return is_terminal, node_splits, node_means"
   ]
  },
  {
   "cell_type": "code",
   "execution_count": 4,
   "metadata": {},
   "outputs": [],
   "source": [
    "def predict(point, is_terminal, node_splits, node_means):\n",
    "    index = 1\n",
    "    while(True):\n",
    "        if is_terminal[index] == True:\n",
    "            return node_means[index]\n",
    "        else:\n",
    "            if point <= node_splits[index]:\n",
    "                index = 2*index\n",
    "            else:\n",
    "                index = 2*index + 1"
   ]
  },
  {
   "cell_type": "code",
   "execution_count": 5,
   "metadata": {},
   "outputs": [],
   "source": [
    "data_points = np.linspace(np.min(X), np.max(X), 1000)\n",
    "\n",
    "P_15 = 15\n",
    "is_terminal, node_splits, node_means = learn_algo(P_15)\n",
    "\n",
    "y_pred = [ predict(data_points[i], is_terminal, node_splits, node_means) for i in range(len(data_points))]"
   ]
  },
  {
   "cell_type": "code",
   "execution_count": 6,
   "metadata": {},
   "outputs": [
    {
     "data": {
      "image/png": "[encoded data removed]",
      "text/plain": [
       "<Figure size 720x360 with 1 Axes>"
      ]
     },
     "metadata": {
      "needs_background": "light"
     },
     "output_type": "display_data"
    }
   ],
   "source": [
    "plt.figure(figsize=(10,5))\n",
    "plt.title(f\"P = {P_15}\")\n",
    "plt.scatter(X_train, y_train, label=\"training data\")\n",
    "plt.scatter(X_test, y_test, color=\"red\", label=\"test_data\")\n",
    "plt.plot(data_points, y_pred, \"k\")\n",
    "plt.xlabel(\"x\")\n",
    "plt.ylabel(\"y\")\n",
    "plt.legend()\n",
    "plt.show()"
   ]
  },
  {
   "cell_type": "code",
   "execution_count": 7,
   "metadata": {},
   "outputs": [
    {
     "name": "stdout",
     "output_type": "stream",
     "text": [
      "RMSE is 26.773045498327598 when P is 15\n"
     ]
    }
   ],
   "source": [
    "y_pred = [ predict(X_test[i], is_terminal, node_splits, node_means) for i in range(N_test)]\n",
    "rmse = np.sqrt(np.mean((y_test - y_pred)**2))\n",
    "print(f\"RMSE is {rmse} when P is {P_15}\")"
   ]
  },
  {
   "cell_type": "code",
   "execution_count": 8,
   "metadata": {},
   "outputs": [],
   "source": [
    "P = np.arange(5,51,5)\n",
    "y_preds = np.zeros((len(P), N_test))\n",
    "for p in range(len(P)):\n",
    "    is_terminal, node_splits, node_means = learn_algo(P[p])\n",
    "    y_pred = [ predict(X_test[i], is_terminal, node_splits, node_means) for i in range(N_test)]\n",
    "    y_preds[p] = y_pred\n",
    "\n",
    "rmse = [np.sqrt(np.mean((y_test - y_preds[i])**2)) for i in range(10)]"
   ]
  },
  {
   "cell_type": "code",
   "execution_count": 9,
   "metadata": {},
   "outputs": [
    {
     "data": {
      "image/png": "[encoded data removed]",
      "text/plain": [
       "<Figure size 720x360 with 1 Axes>"
      ]
     },
     "metadata": {
      "needs_background": "light"
     },
     "output_type": "display_data"
    }
   ],
   "source": [
    "plt.figure(figsize=(10,5))\n",
    "plt.scatter(P, rmse, color=\"black\")\n",
    "plt.plot(P, rmse, color=\"black\")\n",
    "plt.xlabel(\"Pre-pruning size (P)\")\n",
    "plt.ylabel(\"RMSE\")\n",
    "plt.show()"
   ]
  }
 ],
 "metadata": {
  "kernelspec": {
   "display_name": "Python 3",
   "language": "python",
   "name": "python3"
  },
  "language_info": {
   "codemirror_mode": {
    "name": "ipython",
    "version": 3
   },
   "file_extension": ".py",
   "mimetype": "text/x-python",
   "name": "python",
   "nbconvert_exporter": "python",
   "pygments_lexer": "ipython3",
   "version": "3.8.5"
  }
 },
 "nbformat": 4,
 "nbformat_minor": 4
}
